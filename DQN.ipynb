{
 "cells": [
  {
   "cell_type": "code",
   "execution_count": 1,
   "metadata": {},
   "outputs": [
    {
     "name": "stderr",
     "output_type": "stream",
     "text": [
      "Using TensorFlow backend.\n"
     ]
    }
   ],
   "source": [
    "from DQN import Agent\n",
    "\n",
    "import numpy as np\n",
    "import gym"
   ]
  },
  {
   "cell_type": "code",
   "execution_count": 2,
   "metadata": {},
   "outputs": [],
   "source": [
    "env_name = 'Breakout-v0'\n",
    "env = gym.make(env_name)\n",
    "np.random.seed(123)\n",
    "env.seed(123)\n",
    "nb_actions = env.action_space.n"
   ]
  },
  {
   "cell_type": "code",
   "execution_count": 3,
   "metadata": {},
   "outputs": [],
   "source": [
    "img_height = 84\n",
    "img_width = 84\n",
    "img_channels = 3\n",
    "\n",
    "state_dim = [img_height,img_width,img_channels]"
   ]
  },
  {
   "cell_type": "code",
   "execution_count": 4,
   "metadata": {},
   "outputs": [],
   "source": [
    "Agent = Agent(state_dim, nb_actions)"
   ]
  },
  {
   "cell_type": "code",
   "execution_count": 5,
   "metadata": {},
   "outputs": [],
   "source": [
    "Agent.load()"
   ]
  },
  {
   "cell_type": "code",
   "execution_count": 5,
   "metadata": {
    "scrolled": true
   },
   "outputs": [
    {
     "name": "stdout",
     "output_type": "stream",
     "text": [
      "Points : 2.0, Epsilon : 1\n",
      "Points : 0.0, Epsilon : 1.0\n",
      "Points : 0.0, Epsilon : 1.0\n",
      "Points : 3.0, Epsilon : 1.0\n",
      "Points : 2.0, Epsilon : 1.0\n",
      "Points : 0.0, Epsilon : 1.0\n",
      "Points : 0.0, Epsilon : 0.99\n",
      "Points : 2.0, Epsilon : 0.99\n",
      "Points : 0.0, Epsilon : 0.99\n",
      "Points : 0.0, Epsilon : 0.99\n",
      "Points : 2.0, Epsilon : 0.99\n",
      "Points : 0.0, Epsilon : 0.99\n",
      "Points : 0.0, Epsilon : 0.99\n",
      "Points : 0.0, Epsilon : 0.99\n",
      "Points : 0.0, Epsilon : 0.99\n",
      "\n",
      "Optimizing Model\n",
      "\n",
      "Epoch 1/4\n",
      "2850/2850 [==============================] - 14s 5ms/step - loss: 91975.7596 - mean_absolute_error: 72.9999\n",
      "Epoch 2/4\n",
      "2850/2850 [==============================] - 12s 4ms/step - loss: 0.8287 - mean_absolute_error: 0.5959\n",
      "Epoch 3/4\n",
      "2850/2850 [==============================] - 12s 4ms/step - loss: 0.0687 - mean_absolute_error: 0.1636\n",
      "Epoch 4/4\n",
      "2850/2850 [==============================] - 12s 4ms/step - loss: 0.0566 - mean_absolute_error: 0.1332\n",
      "\n",
      "Points : 2.0, Epsilon : 0.99\n",
      "Points : 1.0, Epsilon : 0.98\n",
      "Points : 0.0, Epsilon : 0.98\n",
      "Points : 3.0, Epsilon : 0.98\n",
      "Points : 0.0, Epsilon : 0.98\n",
      "Points : 2.0, Epsilon : 0.98\n",
      "Points : 1.0, Epsilon : 0.98\n",
      "Points : 3.0, Epsilon : 0.98\n",
      "Points : 0.0, Epsilon : 0.98\n",
      "Points : 0.0, Epsilon : 0.98\n",
      "Points : 0.0, Epsilon : 0.98\n",
      "Points : 8.0, Epsilon : 0.97\n",
      "Points : 0.0, Epsilon : 0.97\n",
      "Points : 0.0, Epsilon : 0.97\n",
      "Points : 0.0, Epsilon : 0.97\n",
      "\n",
      "Optimizing Model\n",
      "\n",
      "Epoch 1/4\n",
      "3435/3435 [==============================] - 15s 4ms/step - loss: 0.1643 - mean_absolute_error: 0.1906\n",
      "Epoch 2/4\n",
      "3435/3435 [==============================] - 15s 4ms/step - loss: 0.1588 - mean_absolute_error: 0.1787\n",
      "Epoch 3/4\n",
      "3435/3435 [==============================] - 15s 4ms/step - loss: 0.1571 - mean_absolute_error: 0.1752\n",
      "Epoch 4/4\n",
      "3435/3435 [==============================] - 15s 4ms/step - loss: 0.1603 - mean_absolute_error: 0.1704\n",
      "\n",
      "Points : 2.0, Epsilon : 0.97\n",
      "Points : 0.0, Epsilon : 0.97\n",
      "Points : 2.0, Epsilon : 0.97\n",
      "Points : 0.0, Epsilon : 0.97\n",
      "Points : 0.0, Epsilon : 0.97\n",
      "Points : 0.0, Epsilon : 0.97\n",
      "Points : 0.0, Epsilon : 0.96\n",
      "Points : 1.0, Epsilon : 0.96\n",
      "Points : 0.0, Epsilon : 0.96\n",
      "Points : 3.0, Epsilon : 0.96\n",
      "Points : 2.0, Epsilon : 0.96\n",
      "Points : 2.0, Epsilon : 0.96\n",
      "Points : 0.0, Epsilon : 0.96\n",
      "Points : 0.0, Epsilon : 0.96\n",
      "Points : 0.0, Epsilon : 0.96\n",
      "\n",
      "Optimizing Model\n",
      "\n",
      "Epoch 1/4\n",
      "2961/2961 [==============================] - 13s 4ms/step - loss: 0.0725 - mean_absolute_error: 0.1385\n",
      "Epoch 2/4\n",
      "2961/2961 [==============================] - 13s 4ms/step - loss: 0.0575 - mean_absolute_error: 0.1081\n",
      "Epoch 3/4\n",
      "2961/2961 [==============================] - 13s 4ms/step - loss: 0.0586 - mean_absolute_error: 0.1037\n",
      "Epoch 4/4\n",
      "2961/2961 [==============================] - 13s 4ms/step - loss: 0.0558 - mean_absolute_error: 0.0985\n",
      "\n",
      "Points : 1.0, Epsilon : 0.96\n",
      "Points : 2.0, Epsilon : 0.96\n",
      "Points : 0.0, Epsilon : 0.95\n",
      "Points : 2.0, Epsilon : 0.95\n",
      "Points : 3.0, Epsilon : 0.95\n",
      "Points : 0.0, Epsilon : 0.95\n",
      "Points : 0.0, Epsilon : 0.95\n",
      "Points : 0.0, Epsilon : 0.95\n",
      "Points : 1.0, Epsilon : 0.95\n",
      "Points : 0.0, Epsilon : 0.95\n",
      "Points : 0.0, Epsilon : 0.95\n",
      "Points : 2.0, Epsilon : 0.95\n",
      "Points : 0.0, Epsilon : 0.94\n",
      "Points : 0.0, Epsilon : 0.94\n",
      "Points : 3.0, Epsilon : 0.94\n",
      "\n",
      "Optimizing Model\n",
      "\n",
      "Epoch 1/4\n",
      "3196/3196 [==============================] - 14s 4ms/step - loss: 0.0798 - mean_absolute_error: 0.1249\n",
      "Epoch 2/4\n",
      "3196/3196 [==============================] - 14s 4ms/step - loss: 0.0871 - mean_absolute_error: 0.1376\n",
      "Epoch 3/4\n",
      "3196/3196 [==============================] - 14s 4ms/step - loss: 0.0815 - mean_absolute_error: 0.1334\n",
      "Epoch 4/4\n",
      "3196/3196 [==============================] - 14s 4ms/step - loss: 0.0819 - mean_absolute_error: 0.1333\n",
      "\n",
      "Points : 2.0, Epsilon : 0.94\n",
      "Points : 0.0, Epsilon : 0.94\n",
      "Points : 0.0, Epsilon : 0.94\n",
      "Points : 0.0, Epsilon : 0.94\n",
      "Points : 1.0, Epsilon : 0.94\n",
      "Points : 2.0, Epsilon : 0.94\n",
      "Points : 0.0, Epsilon : 0.94\n",
      "Points : 0.0, Epsilon : 0.94\n",
      "Points : 0.0, Epsilon : 0.93\n",
      "Points : 0.0, Epsilon : 0.93\n",
      "Points : 1.0, Epsilon : 0.93\n",
      "Points : 0.0, Epsilon : 0.93\n",
      "Points : 0.0, Epsilon : 0.93\n",
      "Points : 2.0, Epsilon : 0.93\n",
      "Points : 2.0, Epsilon : 0.93\n",
      "\n",
      "Optimizing Model\n",
      "\n",
      "Epoch 1/4\n",
      "2877/2877 [==============================] - 13s 4ms/step - loss: 0.0923 - mean_absolute_error: 0.1591\n",
      "Epoch 2/4\n",
      "2877/2877 [==============================] - 12s 4ms/step - loss: 0.0672 - mean_absolute_error: 0.1341\n",
      "Epoch 3/4\n",
      "2877/2877 [==============================] - 12s 4ms/step - loss: 0.0591 - mean_absolute_error: 0.1161\n",
      "Epoch 4/4\n",
      "2877/2877 [==============================] - 12s 4ms/step - loss: 0.0568 - mean_absolute_error: 0.1128\n",
      "\n",
      "Points : 0.0, Epsilon : 0.93\n",
      "Points : 2.0, Epsilon : 0.93\n",
      "Points : 1.0, Epsilon : 0.93\n",
      "Points : 0.0, Epsilon : 0.92\n",
      "Points : 1.0, Epsilon : 0.92\n",
      "Points : 0.0, Epsilon : 0.92\n",
      "Points : 2.0, Epsilon : 0.92\n",
      "Points : 1.0, Epsilon : 0.92\n",
      "Points : 1.0, Epsilon : 0.92\n"
     ]
    },
    {
     "ename": "KeyboardInterrupt",
     "evalue": "",
     "output_type": "error",
     "traceback": [
      "\u001b[1;31m---------------------------------------------------------------------------\u001b[0m",
      "\u001b[1;31mKeyboardInterrupt\u001b[0m                         Traceback (most recent call last)",
      "\u001b[1;32m<ipython-input-5-e5ecbbc25c8d>\u001b[0m in \u001b[0;36m<module>\u001b[1;34m\u001b[0m\n\u001b[1;32m----> 1\u001b[1;33m \u001b[0mAgent\u001b[0m\u001b[1;33m.\u001b[0m\u001b[0mLearnToPlay\u001b[0m\u001b[1;33m(\u001b[0m\u001b[0menv\u001b[0m\u001b[1;33m)\u001b[0m\u001b[1;33m\u001b[0m\u001b[1;33m\u001b[0m\u001b[0m\n\u001b[0m",
      "\u001b[1;32m~\\OneDrive\\Documentos Notebook\\CODE\\Q-Learning\\DQN.py\u001b[0m in \u001b[0;36mLearnToPlay\u001b[1;34m(self, env)\u001b[0m\n\u001b[0;32m    212\u001b[0m             \u001b[0mQ\u001b[0m \u001b[1;33m=\u001b[0m \u001b[1;33m[\u001b[0m\u001b[1;33m]\u001b[0m\u001b[1;33m\u001b[0m\u001b[1;33m\u001b[0m\u001b[0m\n\u001b[0;32m    213\u001b[0m             \u001b[1;32mfor\u001b[0m \u001b[0m_\u001b[0m \u001b[1;32min\u001b[0m \u001b[0mrange\u001b[0m\u001b[1;33m(\u001b[0m\u001b[1;36m15\u001b[0m\u001b[1;33m)\u001b[0m\u001b[1;33m:\u001b[0m\u001b[1;33m\u001b[0m\u001b[1;33m\u001b[0m\u001b[0m\n\u001b[1;32m--> 214\u001b[1;33m                 \u001b[0mQ1\u001b[0m \u001b[1;33m=\u001b[0m \u001b[0mself\u001b[0m\u001b[1;33m.\u001b[0m\u001b[0mPlayGame\u001b[0m\u001b[1;33m(\u001b[0m\u001b[0menv\u001b[0m\u001b[1;33m)\u001b[0m\u001b[1;33m\u001b[0m\u001b[1;33m\u001b[0m\u001b[0m\n\u001b[0m\u001b[0;32m    215\u001b[0m                 \u001b[0mQ\u001b[0m\u001b[1;33m+=\u001b[0m\u001b[0mQ1\u001b[0m\u001b[1;33m\u001b[0m\u001b[1;33m\u001b[0m\u001b[0m\n\u001b[0;32m    216\u001b[0m             \u001b[0mx\u001b[0m\u001b[1;33m,\u001b[0m\u001b[0my\u001b[0m \u001b[1;33m=\u001b[0m \u001b[0mself\u001b[0m\u001b[1;33m.\u001b[0m\u001b[0mPrepareTrainData\u001b[0m\u001b[1;33m(\u001b[0m\u001b[0mQ\u001b[0m\u001b[1;33m)\u001b[0m\u001b[1;33m\u001b[0m\u001b[1;33m\u001b[0m\u001b[0m\n",
      "\u001b[1;32m~\\OneDrive\\Documentos Notebook\\CODE\\Q-Learning\\DQN.py\u001b[0m in \u001b[0;36mPlayGame\u001b[1;34m(self, env)\u001b[0m\n\u001b[0;32m    187\u001b[0m \u001b[1;33m\u001b[0m\u001b[0m\n\u001b[0;32m    188\u001b[0m             \u001b[1;32mif\u001b[0m \u001b[0mnp\u001b[0m\u001b[1;33m.\u001b[0m\u001b[0mrandom\u001b[0m\u001b[1;33m.\u001b[0m\u001b[0mrand\u001b[0m\u001b[1;33m(\u001b[0m\u001b[1;33m)\u001b[0m \u001b[1;33m<=\u001b[0m \u001b[0mself\u001b[0m\u001b[1;33m.\u001b[0m\u001b[0mepsilon\u001b[0m\u001b[1;33m:\u001b[0m\u001b[1;33m\u001b[0m\u001b[1;33m\u001b[0m\u001b[0m\n\u001b[1;32m--> 189\u001b[1;33m                 \u001b[0maction\u001b[0m \u001b[1;33m=\u001b[0m \u001b[0mnp\u001b[0m\u001b[1;33m.\u001b[0m\u001b[0margmax\u001b[0m\u001b[1;33m(\u001b[0m\u001b[0mself\u001b[0m\u001b[1;33m.\u001b[0m\u001b[0mmodel\u001b[0m\u001b[1;33m.\u001b[0m\u001b[0mpredict\u001b[0m\u001b[1;33m(\u001b[0m\u001b[0mstate_pred\u001b[0m\u001b[1;33m)\u001b[0m\u001b[1;33m[\u001b[0m\u001b[1;36m0\u001b[0m\u001b[1;33m]\u001b[0m\u001b[1;33m)\u001b[0m\u001b[1;33m\u001b[0m\u001b[1;33m\u001b[0m\u001b[0m\n\u001b[0m\u001b[0;32m    190\u001b[0m             \u001b[1;32melse\u001b[0m\u001b[1;33m:\u001b[0m\u001b[1;33m\u001b[0m\u001b[1;33m\u001b[0m\u001b[0m\n\u001b[0;32m    191\u001b[0m                 \u001b[0maction\u001b[0m \u001b[1;33m=\u001b[0m \u001b[0mnp\u001b[0m\u001b[1;33m.\u001b[0m\u001b[0mrandom\u001b[0m\u001b[1;33m.\u001b[0m\u001b[0mrandint\u001b[0m\u001b[1;33m(\u001b[0m\u001b[0mlow\u001b[0m\u001b[1;33m=\u001b[0m\u001b[1;36m0\u001b[0m\u001b[1;33m,\u001b[0m \u001b[0mhigh\u001b[0m\u001b[1;33m=\u001b[0m\u001b[0mself\u001b[0m\u001b[1;33m.\u001b[0m\u001b[0maction_size\u001b[0m\u001b[1;33m)\u001b[0m\u001b[1;33m\u001b[0m\u001b[1;33m\u001b[0m\u001b[0m\n",
      "\u001b[1;32mc:\\users\\alvar\\appdata\\local\\programs\\python\\python36\\lib\\site-packages\\keras\\engine\\training.py\u001b[0m in \u001b[0;36mpredict\u001b[1;34m(self, x, batch_size, verbose, steps)\u001b[0m\n\u001b[0;32m   1167\u001b[0m                                             \u001b[0mbatch_size\u001b[0m\u001b[1;33m=\u001b[0m\u001b[0mbatch_size\u001b[0m\u001b[1;33m,\u001b[0m\u001b[1;33m\u001b[0m\u001b[1;33m\u001b[0m\u001b[0m\n\u001b[0;32m   1168\u001b[0m                                             \u001b[0mverbose\u001b[0m\u001b[1;33m=\u001b[0m\u001b[0mverbose\u001b[0m\u001b[1;33m,\u001b[0m\u001b[1;33m\u001b[0m\u001b[1;33m\u001b[0m\u001b[0m\n\u001b[1;32m-> 1169\u001b[1;33m                                             steps=steps)\n\u001b[0m\u001b[0;32m   1170\u001b[0m \u001b[1;33m\u001b[0m\u001b[0m\n\u001b[0;32m   1171\u001b[0m     def train_on_batch(self, x, y,\n",
      "\u001b[1;32mc:\\users\\alvar\\appdata\\local\\programs\\python\\python36\\lib\\site-packages\\keras\\engine\\training_arrays.py\u001b[0m in \u001b[0;36mpredict_loop\u001b[1;34m(model, f, ins, batch_size, verbose, steps)\u001b[0m\n\u001b[0;32m    292\u001b[0m                 \u001b[0mins_batch\u001b[0m\u001b[1;33m[\u001b[0m\u001b[0mi\u001b[0m\u001b[1;33m]\u001b[0m \u001b[1;33m=\u001b[0m \u001b[0mins_batch\u001b[0m\u001b[1;33m[\u001b[0m\u001b[0mi\u001b[0m\u001b[1;33m]\u001b[0m\u001b[1;33m.\u001b[0m\u001b[0mtoarray\u001b[0m\u001b[1;33m(\u001b[0m\u001b[1;33m)\u001b[0m\u001b[1;33m\u001b[0m\u001b[1;33m\u001b[0m\u001b[0m\n\u001b[0;32m    293\u001b[0m \u001b[1;33m\u001b[0m\u001b[0m\n\u001b[1;32m--> 294\u001b[1;33m             \u001b[0mbatch_outs\u001b[0m \u001b[1;33m=\u001b[0m \u001b[0mf\u001b[0m\u001b[1;33m(\u001b[0m\u001b[0mins_batch\u001b[0m\u001b[1;33m)\u001b[0m\u001b[1;33m\u001b[0m\u001b[1;33m\u001b[0m\u001b[0m\n\u001b[0m\u001b[0;32m    295\u001b[0m             \u001b[0mbatch_outs\u001b[0m \u001b[1;33m=\u001b[0m \u001b[0mto_list\u001b[0m\u001b[1;33m(\u001b[0m\u001b[0mbatch_outs\u001b[0m\u001b[1;33m)\u001b[0m\u001b[1;33m\u001b[0m\u001b[1;33m\u001b[0m\u001b[0m\n\u001b[0;32m    296\u001b[0m             \u001b[1;32mif\u001b[0m \u001b[0mbatch_index\u001b[0m \u001b[1;33m==\u001b[0m \u001b[1;36m0\u001b[0m\u001b[1;33m:\u001b[0m\u001b[1;33m\u001b[0m\u001b[1;33m\u001b[0m\u001b[0m\n",
      "\u001b[1;32mc:\\users\\alvar\\appdata\\local\\programs\\python\\python36\\lib\\site-packages\\keras\\backend\\tensorflow_backend.py\u001b[0m in \u001b[0;36m__call__\u001b[1;34m(self, inputs)\u001b[0m\n\u001b[0;32m   2713\u001b[0m                 \u001b[1;32mreturn\u001b[0m \u001b[0mself\u001b[0m\u001b[1;33m.\u001b[0m\u001b[0m_legacy_call\u001b[0m\u001b[1;33m(\u001b[0m\u001b[0minputs\u001b[0m\u001b[1;33m)\u001b[0m\u001b[1;33m\u001b[0m\u001b[1;33m\u001b[0m\u001b[0m\n\u001b[0;32m   2714\u001b[0m \u001b[1;33m\u001b[0m\u001b[0m\n\u001b[1;32m-> 2715\u001b[1;33m             \u001b[1;32mreturn\u001b[0m \u001b[0mself\u001b[0m\u001b[1;33m.\u001b[0m\u001b[0m_call\u001b[0m\u001b[1;33m(\u001b[0m\u001b[0minputs\u001b[0m\u001b[1;33m)\u001b[0m\u001b[1;33m\u001b[0m\u001b[1;33m\u001b[0m\u001b[0m\n\u001b[0m\u001b[0;32m   2716\u001b[0m         \u001b[1;32melse\u001b[0m\u001b[1;33m:\u001b[0m\u001b[1;33m\u001b[0m\u001b[1;33m\u001b[0m\u001b[0m\n\u001b[0;32m   2717\u001b[0m             \u001b[1;32mif\u001b[0m \u001b[0mpy_any\u001b[0m\u001b[1;33m(\u001b[0m\u001b[0mis_tensor\u001b[0m\u001b[1;33m(\u001b[0m\u001b[0mx\u001b[0m\u001b[1;33m)\u001b[0m \u001b[1;32mfor\u001b[0m \u001b[0mx\u001b[0m \u001b[1;32min\u001b[0m \u001b[0minputs\u001b[0m\u001b[1;33m)\u001b[0m\u001b[1;33m:\u001b[0m\u001b[1;33m\u001b[0m\u001b[1;33m\u001b[0m\u001b[0m\n",
      "\u001b[1;32mc:\\users\\alvar\\appdata\\local\\programs\\python\\python36\\lib\\site-packages\\keras\\backend\\tensorflow_backend.py\u001b[0m in \u001b[0;36m_call\u001b[1;34m(self, inputs)\u001b[0m\n\u001b[0;32m   2673\u001b[0m             \u001b[0mfetched\u001b[0m \u001b[1;33m=\u001b[0m \u001b[0mself\u001b[0m\u001b[1;33m.\u001b[0m\u001b[0m_callable_fn\u001b[0m\u001b[1;33m(\u001b[0m\u001b[1;33m*\u001b[0m\u001b[0marray_vals\u001b[0m\u001b[1;33m,\u001b[0m \u001b[0mrun_metadata\u001b[0m\u001b[1;33m=\u001b[0m\u001b[0mself\u001b[0m\u001b[1;33m.\u001b[0m\u001b[0mrun_metadata\u001b[0m\u001b[1;33m)\u001b[0m\u001b[1;33m\u001b[0m\u001b[1;33m\u001b[0m\u001b[0m\n\u001b[0;32m   2674\u001b[0m         \u001b[1;32melse\u001b[0m\u001b[1;33m:\u001b[0m\u001b[1;33m\u001b[0m\u001b[1;33m\u001b[0m\u001b[0m\n\u001b[1;32m-> 2675\u001b[1;33m             \u001b[0mfetched\u001b[0m \u001b[1;33m=\u001b[0m \u001b[0mself\u001b[0m\u001b[1;33m.\u001b[0m\u001b[0m_callable_fn\u001b[0m\u001b[1;33m(\u001b[0m\u001b[1;33m*\u001b[0m\u001b[0marray_vals\u001b[0m\u001b[1;33m)\u001b[0m\u001b[1;33m\u001b[0m\u001b[1;33m\u001b[0m\u001b[0m\n\u001b[0m\u001b[0;32m   2676\u001b[0m         \u001b[1;32mreturn\u001b[0m \u001b[0mfetched\u001b[0m\u001b[1;33m[\u001b[0m\u001b[1;33m:\u001b[0m\u001b[0mlen\u001b[0m\u001b[1;33m(\u001b[0m\u001b[0mself\u001b[0m\u001b[1;33m.\u001b[0m\u001b[0moutputs\u001b[0m\u001b[1;33m)\u001b[0m\u001b[1;33m]\u001b[0m\u001b[1;33m\u001b[0m\u001b[1;33m\u001b[0m\u001b[0m\n\u001b[0;32m   2677\u001b[0m \u001b[1;33m\u001b[0m\u001b[0m\n",
      "\u001b[1;32mc:\\users\\alvar\\appdata\\local\\programs\\python\\python36\\lib\\site-packages\\tensorflow\\python\\client\\session.py\u001b[0m in \u001b[0;36m__call__\u001b[1;34m(self, *args, **kwargs)\u001b[0m\n\u001b[0;32m   1437\u001b[0m           ret = tf_session.TF_SessionRunCallable(\n\u001b[0;32m   1438\u001b[0m               \u001b[0mself\u001b[0m\u001b[1;33m.\u001b[0m\u001b[0m_session\u001b[0m\u001b[1;33m.\u001b[0m\u001b[0m_session\u001b[0m\u001b[1;33m,\u001b[0m \u001b[0mself\u001b[0m\u001b[1;33m.\u001b[0m\u001b[0m_handle\u001b[0m\u001b[1;33m,\u001b[0m \u001b[0margs\u001b[0m\u001b[1;33m,\u001b[0m \u001b[0mstatus\u001b[0m\u001b[1;33m,\u001b[0m\u001b[1;33m\u001b[0m\u001b[1;33m\u001b[0m\u001b[0m\n\u001b[1;32m-> 1439\u001b[1;33m               run_metadata_ptr)\n\u001b[0m\u001b[0;32m   1440\u001b[0m         \u001b[1;32mif\u001b[0m \u001b[0mrun_metadata\u001b[0m\u001b[1;33m:\u001b[0m\u001b[1;33m\u001b[0m\u001b[1;33m\u001b[0m\u001b[0m\n\u001b[0;32m   1441\u001b[0m           \u001b[0mproto_data\u001b[0m \u001b[1;33m=\u001b[0m \u001b[0mtf_session\u001b[0m\u001b[1;33m.\u001b[0m\u001b[0mTF_GetBuffer\u001b[0m\u001b[1;33m(\u001b[0m\u001b[0mrun_metadata_ptr\u001b[0m\u001b[1;33m)\u001b[0m\u001b[1;33m\u001b[0m\u001b[1;33m\u001b[0m\u001b[0m\n",
      "\u001b[1;31mKeyboardInterrupt\u001b[0m: "
     ]
    }
   ],
   "source": [
    "Agent.LearnToPlay(env)"
   ]
  },
  {
   "cell_type": "code",
   "execution_count": null,
   "metadata": {},
   "outputs": [],
   "source": [
    "Agent.JustPlay(env,5)"
   ]
  },
  {
   "cell_type": "code",
   "execution_count": null,
   "metadata": {},
   "outputs": [],
   "source": [
    "Agent.save()"
   ]
  },
  {
   "cell_type": "code",
   "execution_count": null,
   "metadata": {},
   "outputs": [],
   "source": [
    "Agent.model.summary()"
   ]
  }
 ],
 "metadata": {
  "kernelspec": {
   "display_name": "Python 3",
   "language": "python",
   "name": "python3"
  },
  "language_info": {
   "codemirror_mode": {
    "name": "ipython",
    "version": 3
   },
   "file_extension": ".py",
   "mimetype": "text/x-python",
   "name": "python",
   "nbconvert_exporter": "python",
   "pygments_lexer": "ipython3",
   "version": "3.6.8"
  }
 },
 "nbformat": 4,
 "nbformat_minor": 2
}
